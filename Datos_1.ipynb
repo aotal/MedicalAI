{
  "nbformat": 4,
  "nbformat_minor": 0,
  "metadata": {
    "colab": {
      "provenance": [],
      "authorship_tag": "ABX9TyMqq6mhHCSKogDpF2H2Qn7a",
      "include_colab_link": true
    },
    "kernelspec": {
      "name": "python3",
      "display_name": "Python 3"
    },
    "language_info": {
      "name": "python"
    }
  },
  "cells": [
    {
      "cell_type": "markdown",
      "metadata": {
        "id": "view-in-github",
        "colab_type": "text"
      },
      "source": [
        "<a href=\"https://colab.research.google.com/github/aotal/MedicalAI/blob/master/Datos_1.ipynb\" target=\"_parent\"><img src=\"https://colab.research.google.com/assets/colab-badge.svg\" alt=\"Open In Colab\"/></a>"
      ]
    },
    {
      "cell_type": "markdown",
      "source": [
        "# Ejemplos de datos\n",
        "\n"
      ],
      "metadata": {
        "id": "oMyjnS4ilxtT"
      }
    },
    {
      "cell_type": "markdown",
      "source": [
        "## Librerías a instalar"
      ],
      "metadata": {
        "id": "Y-0yYJzEl5lK"
      }
    },
    {
      "cell_type": "code",
      "execution_count": 1,
      "metadata": {
        "colab": {
          "base_uri": "https://localhost:8080/"
        },
        "id": "iS7lr_xxlg7q",
        "outputId": "210018a8-221e-4c36-a344-300061d5e690"
      },
      "outputs": [
        {
          "output_type": "stream",
          "name": "stdout",
          "text": [
            "Collecting pydicom\n",
            "  Downloading pydicom-2.4.4-py3-none-any.whl (1.8 MB)\n",
            "\u001b[2K     \u001b[90m━━━━━━━━━━━━━━━━━━━━━━━━━━━━━━━━━━━━━━━━\u001b[0m \u001b[32m1.8/1.8 MB\u001b[0m \u001b[31m7.3 MB/s\u001b[0m eta \u001b[36m0:00:00\u001b[0m\n",
            "\u001b[?25hInstalling collected packages: pydicom\n",
            "Successfully installed pydicom-2.4.4\n"
          ]
        }
      ],
      "source": [
        "!pip install pydicom"
      ]
    },
    {
      "cell_type": "markdown",
      "source": [
        "## Datos semiestructurados"
      ],
      "metadata": {
        "id": "lIu6zXEymJGq"
      }
    },
    {
      "cell_type": "code",
      "source": [],
      "metadata": {
        "id": "hbN_oOErlm6L"
      },
      "execution_count": null,
      "outputs": []
    }
  ]
}